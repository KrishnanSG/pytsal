{
 "cells": [
  {
   "cell_type": "markdown",
   "metadata": {
    "collapsed": true
   },
   "source": [
    "# Pytsal Anomaly Detection Tutorial\n",
    "\n",
    "**Created using: Pytsal 1.0.3**\n",
    "\n",
    "**Date Updated: May 08, 2021**\n",
    "\n",
    "**Tutorial Author: Krishnan S G**\n"
   ]
  },
  {
   "cell_type": "markdown",
   "metadata": {},
   "source": [
    "## 1.0 Tutorial Objective\n",
    "\n",
    "Welcome to Anomaly detection Tutorial. This tutorial assumes that you are new to Pytsal and looking to get started with Anomaly detection using the `pytsal.anomaly` Module.\n",
    "\n",
    "In this tutorial we will learn:\n",
    "\n",
    "* **Getting Data**: How to import data from Pytsal repository\n",
    "* **Setting up Environment**: How to setup an experiment in Pytsal and get started with building forecasting models\n",
    "* **Perform anomaly detection**: Create anomaly detection model and generate insights and plots\n",
    "\n",
    "Read Time : Approx. 15 Minutes"
   ]
  },
  {
   "cell_type": "markdown",
   "metadata": {},
   "source": [
    "## 1.1 Installing Pytsal\n",
    "\n",
    "The first step to get started with Pytsal is to install Pytsal. Installation is easy and will only take a few minutes. Follow the instructions below:\n",
    "\n",
    "#### Installing Pytsal in Local Jupyter Notebook\n",
    "\n",
    "```pip install pytsal```\n",
    "\n",
    "#### Installing Pytsal on Google Colab or Azure Notebooks\n",
    "\n",
    "```!pip install pytsal```"
   ]
  },
  {
   "cell_type": "markdown",
   "metadata": {},
   "source": [
    "## 1.2 Pre-Requisites\n",
    "\n",
    "* Python 3.6 or greater\n",
    "* Pytsal 1.0 or greater\n",
    "* Basic Knowledge of time series analysis"
   ]
  },
  {
   "cell_type": "markdown",
   "metadata": {},
   "source": [
    "## Anomaly Detection using Brutlag algorithm\n",
    "\n",
    "Anomaly detection problem for time series is usually formulated as finding outlier data points relative to some standard.\n",
    "\n",
    "\n",
    "### What is Brutlag algorithm?\n",
    "The algorithm is an extension to Holt-Winter model. The data points within the confidence bands are considered to be normal and data points outside the bands are considered to be anomalies.\n",
    "\n",
    "### Formula\n",
    "![](https://latex.codecogs.com/svg.latex?d_t%20%3D%20%5Cgamma%20%5Cleft%20%7C%20D_t-P_t%20%5Cright%20%7C&plus;%281-%5Cgamma%20%29d_%7Bt-p%7D%5C%5C%20UB%20%3D%20a_%7Bt-1%7D&plus;b_%7Bt-1%7D&plus;c_%7Bt-p%7D%20&plus;%20m*d_%7Bt-p%7D%20%5C%5C%20LB%20%3D%20a_%7Bt-1%7D&plus;b_%7Bt-1%7D&plus;c_%7Bt-p%7D%20-%20m*d_%7Bt-p%7D)\n",
    "\n",
    "- **UB** - upper confidence band.\n",
    "- **LB** - lower confidence band.\n",
    "- **a** - level at time **t**.\n",
    "- **b** - trend/slope component at time **t**.\n",
    "- **c** - seasonal component at time **t**.\n",
    "- **γ** - smoothing parameter for seasonality.\n",
    "- **p** - period for the time series.\n",
    "- **m** - brutlag scaling factor.\n",
    "\n",
    "\n",
    "The following graphs illustrates how Holt-Winter's model and brutlag algorithm are used to identify anomalies present in the time series.\n",
    "\n",
    "![](https://raw.githubusercontent.com/KrishnanSG/holt-winters/70f540a98b67da645d170e3706ea0cc427a83fae/plots/anomaly_2016-17.png)"
   ]
  },
  {
   "cell_type": "markdown",
   "metadata": {},
   "source": [
    "## 3. Getting the data\n",
    "\n",
    "Pytsal has a set of datasets available in-built with the package for easy prototyping and test. In future further more dataset would be added under [datasets folder](https://github.com/KrishnanSG/pytsal/tree/master/pytsal/internal/datasets)\n",
    "\n",
    "### Loading Airline Anomaly dataset"
   ]
  },
  {
   "cell_type": "code",
   "execution_count": 2,
   "metadata": {},
   "outputs": [
    {
     "name": "stdout",
     "output_type": "stream",
     "text": [
      "name             Monthly totals of international airline passen...\n",
      "freq                                                            MS\n",
      "target                                Number of airline passengers\n",
      "type                                                    Univariate\n",
      "phase                                                         Full\n",
      "series_length                                                  144\n",
      "start                                1949-01-01T00:00:00.000000000\n",
      "end                                  1960-12-01T00:00:00.000000000\n",
      "dtype: object\n",
      "\n",
      "### Data ###\n",
      "\n",
      "Date\n",
      "1949-01-01    112.0\n",
      "1949-02-01    118.0\n",
      "1949-03-01    132.0\n",
      "1949-04-01    129.0\n",
      "1949-05-01    121.0\n",
      "              ...  \n",
      "1960-08-01    806.0\n",
      "1960-09-01    508.0\n",
      "1960-10-01    461.0\n",
      "1960-11-01    390.0\n",
      "1960-12-01    432.0\n",
      "Freq: MS, Name: Number of airline passengers, Length: 144, dtype: float64\n"
     ]
    }
   ],
   "source": [
    "from pytsal.dataset import load_airline_with_anomaly\n",
    "\n",
    "ts = load_airline_with_anomaly()\n",
    "\n",
    "print(ts.summary())\n",
    "print('\\n### Data ###\\n')\n",
    "print(ts)"
   ]
  },
  {
   "cell_type": "markdown",
   "metadata": {},
   "source": [
    "## 4. Anomaly detection\n",
    "\n",
    "The setup() function initializes the environment in pytsal and creates the transformation pipeline to prepare the data for modeling and deployment. setup() must be called before executing any other function in pytsal.\n",
    "\n",
    "It takes two mandatory parameters: a pytsal timeseries object and model name. All other parameters are optional and are used to customize the pre-processing pipeline."
   ]
  },
  {
   "cell_type": "code",
   "execution_count": null,
   "metadata": {},
   "outputs": [],
   "source": []
  }
 ],
 "metadata": {
  "kernelspec": {
   "display_name": "Python 3",
   "language": "python",
   "name": "python3"
  },
  "language_info": {
   "codemirror_mode": {
    "name": "ipython",
    "version": 3
   },
   "file_extension": ".py",
   "mimetype": "text/x-python",
   "name": "python",
   "nbconvert_exporter": "python",
   "pygments_lexer": "ipython3",
   "version": "3.7.3"
  }
 },
 "nbformat": 4,
 "nbformat_minor": 1
}
